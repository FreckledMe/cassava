{
 "cells": [
  {
   "cell_type": "code",
   "execution_count": 1,
   "id": "c28f205c",
   "metadata": {},
   "outputs": [],
   "source": [
    "import tensorflow as tf\n",
    "from tensorflow import keras\n",
    "import tensorflow_datasets as tfds\n",
    "import numpy as np\n",
    "from tensorflow.keras.models import Sequential\n",
    "import matplotlib.pyplot as plt\n",
    "import cv2\n",
    "from tensorflow.keras import activations"
   ]
  },
  {
   "cell_type": "code",
   "execution_count": 2,
   "id": "39562722",
   "metadata": {},
   "outputs": [],
   "source": [
    "(train,test,validation),info = tfds.load(\n",
    "    'cassava',\n",
    "    split=['train','test','validation'],\n",
    "    # data_dir='data'\n",
    "    shuffle_files=True,\n",
    "    batch_size=-1,\n",
    "    as_supervised=True,\n",
    "    with_info=True)"
   ]
  },
  {
   "cell_type": "code",
   "execution_count": 3,
   "id": "55e919d0",
   "metadata": {},
   "outputs": [
    {
     "data": {
      "text/plain": [
       "tfds.core.DatasetInfo(\n",
       "    name='cassava',\n",
       "    full_name='cassava/0.1.0',\n",
       "    description=\"\"\"\n",
       "    Cassava consists of leaf images for the cassava plant depicting healthy and\n",
       "    four (4) disease conditions; Cassava Mosaic Disease (CMD), Cassava Bacterial\n",
       "    Blight (CBB), Cassava Greem Mite (CGM) and Cassava Brown Streak Disease (CBSD).\n",
       "    Dataset consists of a total of 9430 labelled images.\n",
       "    The 9430 labelled images are split into a training set (5656), a test set(1885)\n",
       "    and a validation set (1889). The number of images per class are unbalanced with\n",
       "    the two disease classes CMD and CBSD having 72% of the images.\n",
       "    \"\"\",\n",
       "    homepage='https://www.kaggle.com/c/cassava-disease/overview',\n",
       "    data_path='C:\\\\Users\\\\fozil\\\\tensorflow_datasets\\\\cassava\\\\0.1.0',\n",
       "    file_format=tfrecord,\n",
       "    download_size=1.26 GiB,\n",
       "    dataset_size=1.26 GiB,\n",
       "    features=FeaturesDict({\n",
       "        'image': Image(shape=(None, None, 3), dtype=uint8),\n",
       "        'image/filename': Text(shape=(), dtype=string),\n",
       "        'label': ClassLabel(shape=(), dtype=int64, num_classes=5),\n",
       "    }),\n",
       "    supervised_keys=('image', 'label'),\n",
       "    disable_shuffling=False,\n",
       "    splits={\n",
       "        'test': <SplitInfo num_examples=1885, num_shards=4>,\n",
       "        'train': <SplitInfo num_examples=5656, num_shards=8>,\n",
       "        'validation': <SplitInfo num_examples=1889, num_shards=4>,\n",
       "    },\n",
       "    citation=\"\"\"@misc{mwebaze2019icassava,\n",
       "        title={iCassava 2019Fine-Grained Visual Categorization Challenge},\n",
       "        author={Ernest Mwebaze and Timnit Gebru and Andrea Frome and Solomon Nsumba and Jeremy Tusubira},\n",
       "        year={2019},\n",
       "        eprint={1908.02900},\n",
       "        archivePrefix={arXiv},\n",
       "        primaryClass={cs.CV}\n",
       "    }\"\"\",\n",
       ")"
      ]
     },
     "execution_count": 3,
     "metadata": {},
     "output_type": "execute_result"
    }
   ],
   "source": [
    "info"
   ]
  },
  {
   "cell_type": "code",
   "execution_count": 3,
   "id": "4c4860cb",
   "metadata": {},
   "outputs": [],
   "source": [
    "x_train,y_train = tfds.as_numpy(train)\n",
    "x_test,y_test = tfds.as_numpy(test)\n",
    "x_val,y_val = tfds.as_numpy(validation)"
   ]
  },
  {
   "cell_type": "code",
   "execution_count": 37,
   "id": "9c03c204",
   "metadata": {},
   "outputs": [
    {
     "data": {
      "text/plain": [
       "(224, 224, 3)"
      ]
     },
     "execution_count": 37,
     "metadata": {},
     "output_type": "execute_result"
    }
   ],
   "source": [
    "x_train[0].shape"
   ]
  },
  {
   "cell_type": "code",
   "execution_count": 6,
   "id": "1f6622b1",
   "metadata": {},
   "outputs": [],
   "source": [
    "def dataset_maker(img_data,labels):\n",
    "    images = []\n",
    "    for img in img_data:\n",
    "        img = cv2.cvtColor(img,cv2.COLOR_BGR2RGB)\n",
    "        img = cv2.resize(img,dsize=(224,224),interpolation=cv2.INTER_AREA)\n",
    "        img = img.astype('float32')\n",
    "        img /= 255\n",
    "        images.append(img)\n",
    "    images = np.array(images)\n",
    "    labels = labels.astype('uint32')\n",
    "    return images,labels"
   ]
  },
  {
   "cell_type": "code",
   "execution_count": 7,
   "id": "783c1d28",
   "metadata": {},
   "outputs": [],
   "source": [
    "x_train,y_train = dataset_maker(x_train,y_train)\n",
    "x_test,y_test = dataset_maker(x_test,y_test)\n",
    "x_val,y_val = dataset_maker(x_val,y_val)"
   ]
  },
  {
   "cell_type": "code",
   "execution_count": 8,
   "id": "da80c252",
   "metadata": {},
   "outputs": [],
   "source": [
    "train_ds = tf.data.Dataset.from_tensor_slices((x_train,y_train)).shuffle(10000).batch(32)\n",
    "test_ds = tf.data.Dataset.from_tensor_slices((x_test,y_test)).batch(32)\n",
    "val_ds = tf.data.Dataset.from_tensor_slices((x_val,y_val)).batch(32)"
   ]
  },
  {
   "cell_type": "markdown",
   "id": "a61d32bc",
   "metadata": {},
   "source": [
    "## VGG19 from scratch"
   ]
  },
  {
   "cell_type": "code",
   "execution_count": 8,
   "id": "a898eb52",
   "metadata": {},
   "outputs": [],
   "source": [
    "class ModelMine(tf.keras.Model):\n",
    "    def __init__(self):\n",
    "        super(ModelMine,self).__init__()\n",
    "\n",
    "        self.conv1_1 = keras.layers.Conv2D(64,(3,3),padding = 'same',activation=activations.relu)\n",
    "        self.conv1_2 = keras.layers.Conv2D(64,(3,3),padding = 'same',activation=activations.softmax)\n",
    "        self.pool1 = keras.layers.MaxPooling2D((2,2),strides=(2,2))\n",
    "\n",
    "        self.conv2_1 = keras.layers.Conv2D(128,(3,3),padding = 'same',activation=activations.relu)\n",
    "        self.conv2_2 = keras.layers.Conv2D(128,(3,3),padding = 'same',activation=activations.relu)\n",
    "        self.pool2 = keras.layers.MaxPooling2D((2,2),strides=(2,2))\n",
    "\n",
    "        self.conv3_1 = keras.layers.Conv2D(256,(3,3),padding = 'same',activation=activations.relu)\n",
    "        self.conv3_2 = keras.layers.Conv2D(256,(3,3),padding = 'same',activation=activations.relu)\n",
    "        self.conv3_3 = keras.layers.Conv2D(256,(3,3),padding = 'same',activation=activations.relu)\n",
    "        self.conv3_4 = keras.layers.Conv2D(256,(3,3),padding = 'same',activation=activations.relu)\n",
    "        self.pool3 = keras.layers.MaxPooling2D((2,2),strides=(2,2))\n",
    "\n",
    "        self.conv4_1 = keras.layers.Conv2D(512,(3,3),padding = 'same',activation=activations.relu)\n",
    "        self.conv4_2 = keras.layers.Conv2D(512,(3,3),padding = 'same',activation=activations.relu)\n",
    "        self.conv4_3 = keras.layers.Conv2D(512,(3,3),padding = 'same',activation=activations.relu)\n",
    "        self.conv4_4 = keras.layers.Conv2D(512,(3,3),padding = 'same',activation=activations.relu)\n",
    "        self.pool4 = keras.layers.MaxPooling2D((2,2),strides=(2,2))\n",
    "\n",
    "        self.conv5_1 = keras.layers.Conv2D(512,(3,3),padding = 'same',activation=activations.relu)\n",
    "        self.conv5_2 = keras.layers.Conv2D(512,(3,3),padding = 'same',activation=activations.relu)\n",
    "        self.conv5_3 = keras.layers.Conv2D(512,(3,3),padding = 'same',activation=activations.relu)\n",
    "        self.conv5_4 = keras.layers.Conv2D(512,(3,3),padding = 'same',activation=activations.relu)\n",
    "        self.pool5 = keras.layers.MaxPooling2D((2,2),strides=(2,2))\n",
    "\n",
    "        self.flatten = keras.layers.Flatten()\n",
    "        self.fc1 = keras.layers.Dense(4096,activation=activations.relu)\n",
    "        self.fc2 = keras.layers.Dense(4096,activation=activations.relu)\n",
    "        self.fc3 = keras.layers.Dense(1000,activation=activations.relu)\n",
    "        self.fc4 = keras.layers.Dense(100,activation=activations.relu)\n",
    "        self.fc5 = keras.layers.Dense(5,activation=activations.softmax)\n",
    "\n",
    "    def call(self,x):\n",
    "\n",
    "        x = self.conv1_1(x) # \n",
    "        x = self.conv1_2(x) # \n",
    "        x = self.pool1(x)   #\n",
    "\n",
    "        x = self.conv2_1(x) #\n",
    "        x = self.conv2_2(x) #\n",
    "        x = self.pool2(x)\n",
    "\n",
    "        x = self.conv3_1(x)\n",
    "        x = self.conv3_2(x)\n",
    "        x = self.conv3_3(x)\n",
    "        x = self.conv3_4(x)\n",
    "        x = self.pool3(x)\n",
    "\n",
    "        x = self.conv4_1(x)\n",
    "        x = self.conv4_2(x)\n",
    "        x = self.conv4_3(x)\n",
    "        x = self.conv4_4(x)\n",
    "        x = self.pool4(x)\n",
    "\n",
    "        x = self.conv5_1(x)\n",
    "        x = self.conv5_2(x)\n",
    "        x = self.conv5_3(x)\n",
    "        x = self.conv5_4(x)\n",
    "        x = self.pool5(x)\n",
    "\n",
    "        x = self.flatten(x)\n",
    "        x = self.fc1(x)\n",
    "        x = self.fc2(x)\n",
    "        x = self.fc3(x)\n",
    "        x = self.fc4(x)\n",
    "\n",
    "        return self.fc5(x)"
   ]
  },
  {
   "cell_type": "code",
   "execution_count": 9,
   "id": "7d8c89ac",
   "metadata": {},
   "outputs": [],
   "source": [
    "model = ModelMine()"
   ]
  },
  {
   "cell_type": "code",
   "execution_count": 10,
   "id": "14971e10",
   "metadata": {},
   "outputs": [],
   "source": [
    "loss_object = tf.keras.losses.SparseCategoricalCrossentropy(from_logits=True)\n",
    "\n",
    "optimizer = tf.keras.optimizers.Adam()"
   ]
  },
  {
   "cell_type": "code",
   "execution_count": 11,
   "id": "139b21ad",
   "metadata": {},
   "outputs": [],
   "source": [
    "train_loss = tf.keras.metrics.Mean(name='train_loss')\n",
    "train_accuracy = tf.keras.metrics.SparseCategoricalAccuracy(name='train_accuracy')\n",
    "\n",
    "test_loss = tf.keras.metrics.Mean(name='test_loss')\n",
    "test_accuracy = tf.keras.metrics.SparseCategoricalAccuracy(name='test_accuracy')"
   ]
  },
  {
   "cell_type": "code",
   "execution_count": 12,
   "id": "8bf5881a",
   "metadata": {},
   "outputs": [],
   "source": [
    "@tf.function\n",
    "def train_step(images, labels):\n",
    "    with tf.GradientTape() as tape:\n",
    "        predictions = model(images, training=True)\n",
    "        loss = loss_object(labels, predictions)\n",
    "    gradients = tape.gradient(loss, model.trainable_variables)\n",
    "    optimizer.apply_gradients(zip(gradients, model.trainable_variables))\n",
    "    \n",
    "    train_loss(loss)\n",
    "    train_accuracy(labels, predictions)"
   ]
  },
  {
   "cell_type": "code",
   "execution_count": 13,
   "id": "7d9e8c52",
   "metadata": {},
   "outputs": [],
   "source": [
    "@tf.function\n",
    "def test_step(images, labels):\n",
    "    predictions = model(images, training=False)\n",
    "    t_loss = loss_object(labels, predictions)\n",
    "\n",
    "    test_loss(t_loss)\n",
    "    test_accuracy(labels, predictions)"
   ]
  },
  {
   "cell_type": "code",
   "execution_count": 14,
   "id": "647d98de",
   "metadata": {},
   "outputs": [
    {
     "name": "stderr",
     "output_type": "stream",
     "text": [
      "C:\\Users\\fozil\\miniconda3\\envs\\my_gpu\\lib\\site-packages\\keras\\backend.py:5582: UserWarning: \"`sparse_categorical_crossentropy` received `from_logits=True`, but the `output` argument was produced by a Softmax activation and thus does not represent logits. Was this intended?\n",
      "  output, from_logits = _get_logits(\n"
     ]
    },
    {
     "name": "stdout",
     "output_type": "stream",
     "text": [
      "Epoch 1, Loss: 6.95292854309082, Accuracy: 46.516971588134766, Test Loss: 1.3443787097930908, Test Accuracy: 47.00265121459961\n",
      "Epoch 2, Loss: 1.3517769575119019, Accuracy: 46.99434280395508, Test Loss: 1.345324993133545, Test Accuracy: 47.00265121459961\n",
      "Epoch 3, Loss: 1.3472888469696045, Accuracy: 46.99434280395508, Test Loss: 1.345323085784912, Test Accuracy: 47.00265121459961\n",
      "Epoch 4, Loss: 1.346398949623108, Accuracy: 46.99434280395508, Test Loss: 1.351625919342041, Test Accuracy: 47.00265121459961\n",
      "Epoch 5, Loss: 1.3475369215011597, Accuracy: 46.99434280395508, Test Loss: 1.3436042070388794, Test Accuracy: 47.00265121459961\n"
     ]
    }
   ],
   "source": [
    "EPOCHS = 5\n",
    "with tf.device('/device:GPU:0'):\n",
    "    for epoch in range(EPOCHS):\n",
    "        train_loss.reset_states()\n",
    "        train_accuracy.reset_states()\n",
    "        test_loss.reset_states()\n",
    "        test_accuracy.reset_states()\n",
    "\n",
    "        for images, labels in train_ds:\n",
    "            train_step(images, labels)\n",
    "        for test_images, test_labels in test_ds:\n",
    "            test_step(test_images, test_labels)\n",
    "        print(\n",
    "            f'Epoch {epoch + 1}, '\n",
    "            f'Loss: {train_loss.result()}, '\n",
    "            f'Accuracy: {train_accuracy.result() * 100}, '\n",
    "            f'Test Loss: {test_loss.result()}, '\n",
    "            f'Test Accuracy: {test_accuracy.result() * 100}'\n",
    "        )"
   ]
  },
  {
   "cell_type": "markdown",
   "id": "3e7ff835",
   "metadata": {},
   "source": [
    "## Transfer learning with VGG19"
   ]
  },
  {
   "cell_type": "code",
   "execution_count": 9,
   "id": "b95f4904",
   "metadata": {},
   "outputs": [],
   "source": [
    "vgg19 = keras.applications.vgg19.VGG19(input_shape=(224,224,3),include_top=False)"
   ]
  },
  {
   "cell_type": "code",
   "execution_count": 10,
   "id": "4673f66d",
   "metadata": {},
   "outputs": [],
   "source": [
    "vgg19.trainable=False"
   ]
  },
  {
   "cell_type": "code",
   "execution_count": 11,
   "id": "216c1317",
   "metadata": {},
   "outputs": [
    {
     "name": "stdout",
     "output_type": "stream",
     "text": [
      "Model: \"vgg19\"\n",
      "_________________________________________________________________\n",
      " Layer (type)                Output Shape              Param #   \n",
      "=================================================================\n",
      " input_1 (InputLayer)        [(None, 224, 224, 3)]     0         \n",
      "                                                                 \n",
      " block1_conv1 (Conv2D)       (None, 224, 224, 64)      1792      \n",
      "                                                                 \n",
      " block1_conv2 (Conv2D)       (None, 224, 224, 64)      36928     \n",
      "                                                                 \n",
      " block1_pool (MaxPooling2D)  (None, 112, 112, 64)      0         \n",
      "                                                                 \n",
      " block2_conv1 (Conv2D)       (None, 112, 112, 128)     73856     \n",
      "                                                                 \n",
      " block2_conv2 (Conv2D)       (None, 112, 112, 128)     147584    \n",
      "                                                                 \n",
      " block2_pool (MaxPooling2D)  (None, 56, 56, 128)       0         \n",
      "                                                                 \n",
      " block3_conv1 (Conv2D)       (None, 56, 56, 256)       295168    \n",
      "                                                                 \n",
      " block3_conv2 (Conv2D)       (None, 56, 56, 256)       590080    \n",
      "                                                                 \n",
      " block3_conv3 (Conv2D)       (None, 56, 56, 256)       590080    \n",
      "                                                                 \n",
      " block3_conv4 (Conv2D)       (None, 56, 56, 256)       590080    \n",
      "                                                                 \n",
      " block3_pool (MaxPooling2D)  (None, 28, 28, 256)       0         \n",
      "                                                                 \n",
      " block4_conv1 (Conv2D)       (None, 28, 28, 512)       1180160   \n",
      "                                                                 \n",
      " block4_conv2 (Conv2D)       (None, 28, 28, 512)       2359808   \n",
      "                                                                 \n",
      " block4_conv3 (Conv2D)       (None, 28, 28, 512)       2359808   \n",
      "                                                                 \n",
      " block4_conv4 (Conv2D)       (None, 28, 28, 512)       2359808   \n",
      "                                                                 \n",
      " block4_pool (MaxPooling2D)  (None, 14, 14, 512)       0         \n",
      "                                                                 \n",
      " block5_conv1 (Conv2D)       (None, 14, 14, 512)       2359808   \n",
      "                                                                 \n",
      " block5_conv2 (Conv2D)       (None, 14, 14, 512)       2359808   \n",
      "                                                                 \n",
      " block5_conv3 (Conv2D)       (None, 14, 14, 512)       2359808   \n",
      "                                                                 \n",
      " block5_conv4 (Conv2D)       (None, 14, 14, 512)       2359808   \n",
      "                                                                 \n",
      " block5_pool (MaxPooling2D)  (None, 7, 7, 512)         0         \n",
      "                                                                 \n",
      "=================================================================\n",
      "Total params: 20,024,384\n",
      "Trainable params: 0\n",
      "Non-trainable params: 20,024,384\n",
      "_________________________________________________________________\n"
     ]
    }
   ],
   "source": [
    "vgg19.summary()"
   ]
  },
  {
   "cell_type": "code",
   "execution_count": 12,
   "id": "13dc116a",
   "metadata": {},
   "outputs": [],
   "source": [
    "vgg19_model = Sequential([\n",
    "    vgg19,\n",
    "    keras.layers.Flatten(),\n",
    "    keras.layers.Dense(4096,activation=activations.relu),\n",
    "    keras.layers.Dense(2048,activation=activations.relu),\n",
    "    keras.layers.Dense(1000,activation=activations.relu),\n",
    "    keras.layers.Dense(100,activation=activations.relu),\n",
    "    keras.layers.Dense(5,activation=activations.softmax)])"
   ]
  },
  {
   "cell_type": "code",
   "execution_count": 13,
   "id": "e4274763",
   "metadata": {},
   "outputs": [],
   "source": [
    "vgg19_model.compile(optimizer=keras.optimizers.Adam(),\n",
    "                 loss=keras.losses.SparseCategoricalCrossentropy(),\n",
    "                 metrics=keras.metrics.SparseCategoricalAccuracy())"
   ]
  },
  {
   "cell_type": "code",
   "execution_count": 15,
   "id": "fd370980",
   "metadata": {},
   "outputs": [
    {
     "name": "stdout",
     "output_type": "stream",
     "text": [
      "Epoch 1/5\n",
      "177/177 [==============================] - 28s 109ms/step - loss: 1.7459 - sparse_categorical_accuracy: 0.5334 - val_loss: 1.1777 - val_sparse_categorical_accuracy: 0.5767\n",
      "Epoch 2/5\n",
      "177/177 [==============================] - 16s 90ms/step - loss: 1.0418 - sparse_categorical_accuracy: 0.6110 - val_loss: 1.1417 - val_sparse_categorical_accuracy: 0.5798\n",
      "Epoch 3/5\n",
      "177/177 [==============================] - 16s 89ms/step - loss: 0.9870 - sparse_categorical_accuracy: 0.6399 - val_loss: 1.1091 - val_sparse_categorical_accuracy: 0.6053\n",
      "Epoch 4/5\n",
      "177/177 [==============================] - 16s 90ms/step - loss: 0.9280 - sparse_categorical_accuracy: 0.6581 - val_loss: 1.3486 - val_sparse_categorical_accuracy: 0.5066\n",
      "Epoch 5/5\n",
      "177/177 [==============================] - 16s 90ms/step - loss: 0.9140 - sparse_categorical_accuracy: 0.6673 - val_loss: 1.2506 - val_sparse_categorical_accuracy: 0.5326\n"
     ]
    }
   ],
   "source": [
    "my_callbacks = [\n",
    "    tf.keras.callbacks.EarlyStopping(patience=2),\n",
    "    tf.keras.callbacks.ModelCheckpoint(filepath='saved_model/model.{epoch:02d}-{val_loss:.2f}.h5'),\n",
    "    tf.keras.callbacks.TensorBoard(log_dir='./logs'),\n",
    "]\n",
    "with tf.device('/device:GPU:0'):\n",
    "    vgg19_model.fit(\n",
    "        train_ds,\n",
    "        epochs=5,\n",
    "        callbacks=my_callbacks,\n",
    "        verbose = 1,\n",
    "        validation_data = test_ds)"
   ]
  },
  {
   "cell_type": "code",
   "execution_count": 16,
   "id": "6739018b",
   "metadata": {},
   "outputs": [
    {
     "name": "stdout",
     "output_type": "stream",
     "text": [
      "59/59 [==============================] - 3s 46ms/step - loss: 1.2506 - sparse_categorical_accuracy: 0.5326\n"
     ]
    },
    {
     "data": {
      "text/plain": [
       "[1.2506476640701294, 0.5326259732246399]"
      ]
     },
     "execution_count": 16,
     "metadata": {},
     "output_type": "execute_result"
    }
   ],
   "source": [
    "vgg19_model.evaluate(test_ds)"
   ]
  },
  {
   "cell_type": "code",
   "execution_count": null,
   "id": "d47c5663",
   "metadata": {},
   "outputs": [],
   "source": []
  }
 ],
 "metadata": {
  "kernelspec": {
   "display_name": "my_gpu",
   "language": "python",
   "name": "my_gpu"
  },
  "language_info": {
   "codemirror_mode": {
    "name": "ipython",
    "version": 3
   },
   "file_extension": ".py",
   "mimetype": "text/x-python",
   "name": "python",
   "nbconvert_exporter": "python",
   "pygments_lexer": "ipython3",
   "version": "3.9.16"
  }
 },
 "nbformat": 4,
 "nbformat_minor": 5
}
