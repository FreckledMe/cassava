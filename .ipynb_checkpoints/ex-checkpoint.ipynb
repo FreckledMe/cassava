{
 "cells": [
  {
   "cell_type": "code",
   "execution_count": 2,
   "metadata": {},
   "outputs": [],
   "source": [
    "import tensorflow as tf\n",
    "from tensorflow import keras\n",
    "import tensorflow_datasets as tfds\n",
    "import numpy as np\n",
    "from tensorflow.keras.models import Sequential\n",
    "import matplotlib.pyplot as plt\n",
    "import cv2\n",
    "from tensorflow.keras import activations"
   ]
  },
  {
   "cell_type": "code",
   "execution_count": 3,
   "metadata": {},
   "outputs": [],
   "source": [
    "(train,test,validation),info = tfds.load(\n",
    "    'cassava',\n",
    "    split=['train','test','validation'],\n",
    "    # data_dir='data'\n",
    "    shuffle_files=True,\n",
    "    batch_size=-1,\n",
    "    as_supervised=True,\n",
    "    with_info=True)"
   ]
  },
  {
   "cell_type": "code",
   "execution_count": 4,
   "metadata": {},
   "outputs": [
    {
     "data": {
      "text/plain": [
       "tfds.core.DatasetInfo(\n",
       "    name='cassava',\n",
       "    full_name='cassava/0.1.0',\n",
       "    description=\"\"\"\n",
       "    Cassava consists of leaf images for the cassava plant depicting healthy and\n",
       "    four (4) disease conditions; Cassava Mosaic Disease (CMD), Cassava Bacterial\n",
       "    Blight (CBB), Cassava Greem Mite (CGM) and Cassava Brown Streak Disease (CBSD).\n",
       "    Dataset consists of a total of 9430 labelled images.\n",
       "    The 9430 labelled images are split into a training set (5656), a test set(1885)\n",
       "    and a validation set (1889). The number of images per class are unbalanced with\n",
       "    the two disease classes CMD and CBSD having 72% of the images.\n",
       "    \"\"\",\n",
       "    homepage='https://www.kaggle.com/c/cassava-disease/overview',\n",
       "    data_path='C:\\\\Users\\\\justf\\\\tensorflow_datasets\\\\cassava\\\\0.1.0',\n",
       "    file_format=tfrecord,\n",
       "    download_size=1.26 GiB,\n",
       "    dataset_size=1.26 GiB,\n",
       "    features=FeaturesDict({\n",
       "        'image': Image(shape=(None, None, 3), dtype=uint8),\n",
       "        'image/filename': Text(shape=(), dtype=string),\n",
       "        'label': ClassLabel(shape=(), dtype=int64, num_classes=5),\n",
       "    }),\n",
       "    supervised_keys=('image', 'label'),\n",
       "    disable_shuffling=False,\n",
       "    splits={\n",
       "        'test': <SplitInfo num_examples=1885, num_shards=4>,\n",
       "        'train': <SplitInfo num_examples=5656, num_shards=8>,\n",
       "        'validation': <SplitInfo num_examples=1889, num_shards=4>,\n",
       "    },\n",
       "    citation=\"\"\"@misc{mwebaze2019icassava,\n",
       "        title={iCassava 2019Fine-Grained Visual Categorization Challenge},\n",
       "        author={Ernest Mwebaze and Timnit Gebru and Andrea Frome and Solomon Nsumba and Jeremy Tusubira},\n",
       "        year={2019},\n",
       "        eprint={1908.02900},\n",
       "        archivePrefix={arXiv},\n",
       "        primaryClass={cs.CV}\n",
       "    }\"\"\",\n",
       ")"
      ]
     },
     "execution_count": 4,
     "metadata": {},
     "output_type": "execute_result"
    }
   ],
   "source": [
    "info"
   ]
  },
  {
   "cell_type": "code",
   "execution_count": 5,
   "metadata": {},
   "outputs": [],
   "source": [
    "x_train,y_train = tfds.as_numpy(train)\n",
    "x_test,y_test = tfds.as_numpy(test)\n",
    "x_val,y_val = tfds.as_numpy(validation)"
   ]
  },
  {
   "cell_type": "code",
   "execution_count": 6,
   "metadata": {},
   "outputs": [],
   "source": [
    "def dataset_maker(img_data,labels):\n",
    "    images = []\n",
    "    for img in img_data:\n",
    "        img = cv2.cvtColor(img,cv2.COLOR_BGR2RGB)\n",
    "        img = cv2.resize(img,dsize=(224,224),interpolation=cv2.INTER_AREA)\n",
    "        img = img.astype('float32')\n",
    "        img /= 255\n",
    "        images.append(img)\n",
    "    images = np.array(images)\n",
    "    labels = labels.astype('uint32')\n",
    "    return images,labels"
   ]
  },
  {
   "cell_type": "code",
   "execution_count": 7,
   "metadata": {},
   "outputs": [],
   "source": [
    "x_train,y_train = dataset_maker(x_train,y_train)\n",
    "x_test,y_test = dataset_maker(x_test,y_test)\n",
    "x_val,y_val = dataset_maker(x_val,y_val)"
   ]
  },
  {
   "cell_type": "code",
   "execution_count": 8,
   "metadata": {},
   "outputs": [],
   "source": [
    "train_ds = tf.data.Dataset.from_tensor_slices((x_train,y_train)).shuffle(10000).batch(32)\n",
    "test_ds = tf.data.Dataset.from_tensor_slices((x_test,y_test)).batch(32)\n",
    "val_ds = tf.data.Dataset.from_tensor_slices((x_val,y_val)).batch(32)"
   ]
  },
  {
   "cell_type": "markdown",
   "metadata": {},
   "source": [
    "# VGG19 from scratch"
   ]
  },
  {
   "cell_type": "code",
   "execution_count": 9,
   "metadata": {},
   "outputs": [],
   "source": [
    "class ModelMine(tf.keras.Model):\n",
    "    def __init__(self):\n",
    "        super(ModelMine,self).__init__()\n",
    "\n",
    "        self.conv1_1 = keras.layers.Conv2D(64,(3,3),padding = 'same',activation=activations.relu)\n",
    "        self.conv1_2 = keras.layers.Conv2D(64,(3,3),padding = 'same',activation=activations.softmax)\n",
    "        self.pool1 = keras.layers.MaxPooling2D((2,2),strides=(2,2))\n",
    "\n",
    "        self.conv2_1 = keras.layers.Conv2D(128,(3,3),padding = 'same',activation=activations.relu)\n",
    "        self.conv2_2 = keras.layers.Conv2D(128,(3,3),padding = 'same',activation=activations.relu)\n",
    "        self.pool2 = keras.layers.MaxPooling2D((2,2),strides=(2,2))\n",
    "\n",
    "        self.conv3_1 = keras.layers.Conv2D(256,(3,3),padding = 'same',activation=activations.relu)\n",
    "        self.conv3_2 = keras.layers.Conv2D(256,(3,3),padding = 'same',activation=activations.relu)\n",
    "        self.conv3_3 = keras.layers.Conv2D(256,(3,3),padding = 'same',activation=activations.relu)\n",
    "        self.conv3_4 = keras.layers.Conv2D(256,(3,3),padding = 'same',activation=activations.relu)\n",
    "        self.pool3 = keras.layers.MaxPooling2D((2,2),strides=(2,2))\n",
    "\n",
    "        self.conv4_1 = keras.layers.Conv2D(512,(3,3),padding = 'same',activation=activations.relu)\n",
    "        self.conv4_2 = keras.layers.Conv2D(512,(3,3),padding = 'same',activation=activations.relu)\n",
    "        self.conv4_3 = keras.layers.Conv2D(512,(3,3),padding = 'same',activation=activations.relu)\n",
    "        self.conv4_4 = keras.layers.Conv2D(512,(3,3),padding = 'same',activation=activations.relu)\n",
    "        self.pool4 = keras.layers.MaxPooling2D((2,2),strides=(2,2))\n",
    "\n",
    "        self.conv5_1 = keras.layers.Conv2D(512,(3,3),padding = 'same',activation=activations.relu)\n",
    "        self.conv5_2 = keras.layers.Conv2D(512,(3,3),padding = 'same',activation=activations.relu)\n",
    "        self.conv5_3 = keras.layers.Conv2D(512,(3,3),padding = 'same',activation=activations.relu)\n",
    "        self.conv5_4 = keras.layers.Conv2D(512,(3,3),padding = 'same',activation=activations.relu)\n",
    "        self.pool5 = keras.layers.MaxPooling2D((2,2),strides=(2,2))\n",
    "\n",
    "        self.flatten = keras.layers.Flatten()\n",
    "        self.fc1 = keras.layers.Dense(4096,activation=activations.relu)\n",
    "        self.fc2 = keras.layers.Dense(4096,activation=activations.relu)\n",
    "        self.fc3 = keras.layers.Dense(1000,activation=activations.relu)\n",
    "        self.fc4 = keras.layers.Dense(100,activation=activations.relu)\n",
    "        self.fc5 = keras.layers.Dense(5,activation=activations.softmax)\n",
    "\n",
    "    def call(self,x):\n",
    "\n",
    "        x = self.conv1_1(x) # \n",
    "        x = self.conv1_2(x) # \n",
    "        x = self.pool1(x)   #\n",
    "\n",
    "        x = self.conv2_1(x) #\n",
    "        x = self.conv2_2(x) #\n",
    "        x = self.pool2(x)\n",
    "\n",
    "        x = self.conv3_1(x)\n",
    "        x = self.conv3_2(x)\n",
    "        x = self.conv3_3(x)\n",
    "        x = self.conv3_4(x)\n",
    "        x = self.pool3(x)\n",
    "\n",
    "        x = self.conv4_1(x)\n",
    "        x = self.conv4_2(x)\n",
    "        x = self.conv4_3(x)\n",
    "        x = self.conv4_4(x)\n",
    "        x = self.pool4(x)\n",
    "\n",
    "        x = self.conv5_1(x)\n",
    "        x = self.conv5_2(x)\n",
    "        x = self.conv5_3(x)\n",
    "        x = self.conv5_4(x)\n",
    "        x = self.pool5(x)\n",
    "\n",
    "        x = self.flatten(x)\n",
    "        x = self.fc1(x)\n",
    "        x = self.fc2(x)\n",
    "        x = self.fc3(x)\n",
    "        x = self.fc4(x)\n",
    "\n",
    "        return self.fc5(x)"
   ]
  },
  {
   "cell_type": "code",
   "execution_count": 10,
   "metadata": {},
   "outputs": [],
   "source": [
    "model = ModelMine()"
   ]
  },
  {
   "cell_type": "code",
   "execution_count": 11,
   "metadata": {},
   "outputs": [],
   "source": [
    "loss_object = tf.keras.losses.SparseCategoricalCrossentropy(from_logits=True)\n",
    "\n",
    "optimizer = tf.keras.optimizers.Adam()"
   ]
  },
  {
   "cell_type": "code",
   "execution_count": 12,
   "metadata": {},
   "outputs": [],
   "source": [
    "train_loss = tf.keras.metrics.Mean(name='train_loss')\n",
    "train_accuracy = tf.keras.metrics.SparseCategoricalAccuracy(name='train_accuracy')\n",
    "\n",
    "test_loss = tf.keras.metrics.Mean(name='test_loss')\n",
    "test_accuracy = tf.keras.metrics.SparseCategoricalAccuracy(name='test_accuracy')"
   ]
  },
  {
   "cell_type": "code",
   "execution_count": 13,
   "metadata": {},
   "outputs": [],
   "source": [
    "@tf.function\n",
    "def train_step(images, labels):\n",
    "  with tf.GradientTape() as tape:\n",
    "    predictions = model(images, training=True)\n",
    "    loss = loss_object(labels, predictions)\n",
    "  gradients = tape.gradient(loss, model.trainable_variables)\n",
    "  optimizer.apply_gradients(zip(gradients, model.trainable_variables))\n",
    "\n",
    "  train_loss(loss)\n",
    "  train_accuracy(labels, predictions)"
   ]
  },
  {
   "cell_type": "code",
   "execution_count": 14,
   "metadata": {},
   "outputs": [],
   "source": [
    "@tf.function\n",
    "def test_step(images, labels):\n",
    "  predictions = model(images, training=False)\n",
    "  t_loss = loss_object(labels, predictions)\n",
    "\n",
    "  test_loss(t_loss)\n",
    "  test_accuracy(labels, predictions)"
   ]
  },
  {
   "cell_type": "code",
   "execution_count": 15,
   "metadata": {},
   "outputs": [
    {
     "name": "stderr",
     "output_type": "stream",
     "text": [
      "c:\\Users\\justf\\AppData\\Local\\Programs\\Python\\Python310\\lib\\site-packages\\keras\\backend.py:5585: UserWarning: \"`sparse_categorical_crossentropy` received `from_logits=True`, but the `output` argument was produced by a Softmax activation and thus does not represent logits. Was this intended?\n",
      "  output, from_logits = _get_logits(\n"
     ]
    },
    {
     "ename": "",
     "evalue": "",
     "output_type": "error",
     "traceback": [
      "\u001b[1;31mCanceled future for execute_request message before replies were done"
     ]
    },
    {
     "ename": "",
     "evalue": "",
     "output_type": "error",
     "traceback": [
      "\u001b[1;31mThe Kernel crashed while executing code in the the current cell or a previous cell. Please review the code in the cell(s) to identify a possible cause of the failure. Click <a href='https://aka.ms/vscodeJupyterKernelCrash'>here</a> for more info. View Jupyter <a href='command:jupyter.viewOutput'>log</a> for further details."
     ]
    }
   ],
   "source": [
    "EPOCHS = 5\n",
    "\n",
    "for epoch in range(EPOCHS):\n",
    "  train_loss.reset_states()\n",
    "  train_accuracy.reset_states()\n",
    "  test_loss.reset_states()\n",
    "  test_accuracy.reset_states()\n",
    "\n",
    "  for images, labels in train_ds:\n",
    "    train_step(images, labels)\n",
    "\n",
    "  for test_images, test_labels in test_ds:\n",
    "    test_step(test_images, test_labels)\n",
    "\n",
    "  print(\n",
    "    f'Epoch {epoch + 1}, '\n",
    "    f'Loss: {train_loss.result()}, '\n",
    "    f'Accuracy: {train_accuracy.result() * 100}, '\n",
    "    f'Test Loss: {test_loss.result()}, '\n",
    "    f'Test Accuracy: {test_accuracy.result() * 100}'\n",
    "  )"
   ]
  },
  {
   "cell_type": "code",
   "execution_count": null,
   "metadata": {},
   "outputs": [],
   "source": []
  }
 ],
 "metadata": {
  "kernelspec": {
   "display_name": "my_gpu",
   "language": "python",
   "name": "my_gpu"
  },
  "language_info": {
   "codemirror_mode": {
    "name": "ipython",
    "version": 3
   },
   "file_extension": ".py",
   "mimetype": "text/x-python",
   "name": "python",
   "nbconvert_exporter": "python",
   "pygments_lexer": "ipython3",
   "version": "3.9.16"
  }
 },
 "nbformat": 4,
 "nbformat_minor": 2
}
